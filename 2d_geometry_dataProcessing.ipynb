{
 "cells": [
  {
   "cell_type": "code",
   "execution_count": 4,
   "metadata": {},
   "outputs": [
    {
     "name": "stdout",
     "output_type": "stream",
     "text": [
      "✅ Processed aaai and added to GeoS_Processed.csv\n",
      "✅ Processed official and added to GeoS_Processed.csv\n",
      "✅ Processed practice and added to GeoS_Processed.csv\n",
      "✅ All dataset processing completed. Data saved in GeoS_Processed.csv\n"
     ]
    }
   ],
   "source": [
    "import os\n",
    "import json\n",
    "import csv\n",
    "import re\n",
    "\n",
    "# Manually specify dataset paths\n",
    "dataset_paths = {\n",
    "    \"aaai\": \"/Users/ashutosh/Downloads/GeoS/aaai\",\n",
    "    \"official\": \"/Users/ashutosh/Downloads/GeoS/official\",\n",
    "    \"practice\": \"/Users/ashutosh/Downloads/GeoS/practice\"\n",
    "}\n",
    "\n",
    "# Shape keywords mapping\n",
    "shape_keywords = {\n",
    "    \"circle\": [\"circle\", \"radius\", \"diameter\"],\n",
    "    \"triangle\": [\"triangle\", \"hypotenuse\", \"isosceles\", \"scalene\", \"equilateral\"],\n",
    "    \"square\": [\"square\"],\n",
    "    \"rectangle\": [\"rectangle\"],\n",
    "    \"trapezium\": [\"trapezium\", \"trapezoid\"],\n",
    "    \"parallelogram\": [\"parallelogram\"],\n",
    "    \"pentagon\": [\"pentagon\"],\n",
    "    \"hexagon\": [\"hexagon\"]\n",
    "}\n",
    "\n",
    "# CSV output file (single file for all datasets)\n",
    "output_csv = \"GeoS_Processed.csv\"\n",
    "\n",
    "# Open CSV file and write header\n",
    "with open(output_csv, \"w\", newline=\"\") as f:\n",
    "    writer = csv.writer(f)\n",
    "    writer.writerow([\"dataset\", \"file_name\", \"shape\"])  # CSV header\n",
    "\n",
    "    # Process each dataset folder\n",
    "    for dataset_name, dataset_path in dataset_paths.items():\n",
    "        if not os.path.exists(dataset_path):\n",
    "            print(f\"❌ Error: Folder '{dataset_path}' not found! Skipping...\")\n",
    "            continue\n",
    "\n",
    "        # Process JSON files in the dataset folder\n",
    "        for file in os.listdir(dataset_path):\n",
    "            if file.endswith(\".json\"):\n",
    "                file_path = os.path.join(dataset_path, file)\n",
    "\n",
    "                # Read JSON file\n",
    "                with open(file_path, \"r\") as json_file:\n",
    "                    json_data = json.load(json_file)\n",
    "                    question_text = json_data.get(\"text\", \"\")\n",
    "\n",
    "                    # Extract shape name\n",
    "                    shape_label = extract_shape(question_text)\n",
    "\n",
    "                    # Store results in the single CSV\n",
    "                    writer.writerow([dataset_name, file, shape_label])\n",
    "\n",
    "        print(f\"✅ Processed {dataset_name} and added to {output_csv}\")\n",
    "\n",
    "print(f\"✅ All dataset processing completed. Data saved in {output_csv}\")"
   ]
  }
 ],
 "metadata": {
  "kernelspec": {
   "display_name": ".venv",
   "language": "python",
   "name": "python3"
  },
  "language_info": {
   "codemirror_mode": {
    "name": "ipython",
    "version": 3
   },
   "file_extension": ".py",
   "mimetype": "text/x-python",
   "name": "python",
   "nbconvert_exporter": "python",
   "pygments_lexer": "ipython3",
   "version": "3.12.9"
  }
 },
 "nbformat": 4,
 "nbformat_minor": 2
}
